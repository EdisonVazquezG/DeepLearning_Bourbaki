{
 "cells": [
  {
   "cell_type": "markdown",
   "metadata": {},
   "source": [
    "# Destilación de conocimiento de una red neuronal\n",
    "\n",
    "Demostración del método de destilación de conocimiento en datos MNIST\n",
    "\n",
    "* Entrene un modelo \"caro\" y grande en datos MNIST para lograr un buen rendimiento de generalización. Este es el modelo del profesor.\n",
    "* Cree un modelo mucho más económico y más pequeño, pero en lugar de usar las etiquetas reales, use las predicciones del modelo del profesor en los datos de entrenamiento. Estas son las etiquetas suaves y este modelo se llama estudiante\n",
    "* Compare su rendimiento con el mismo modelo entrenado en etiquetas reales. Resulta que el modelo del estudiante tiene un rendimiento mucho mejor en la generalización de datos de prueba"
   ]
  },
  {
   "cell_type": "code",
   "execution_count": 1,
   "metadata": {},
   "outputs": [],
   "source": [
    "%load_ext autoreload\n",
    "%autoreload 2"
   ]
  },
  {
   "cell_type": "markdown",
   "metadata": {},
   "source": [
    "### Librerias"
   ]
  },
  {
   "cell_type": "code",
   "execution_count": 2,
   "metadata": {},
   "outputs": [],
   "source": [
    "import numpy as np\n",
    "import matplotlib.pyplot as plt\n",
    "\n",
    "import tensorflow as tf\n",
    "from tensorflow.keras.layers import Dense, Flatten, Conv2D\n",
    "from tensorflow.keras import Model\n",
    "\n",
    "from sklearn.preprocessing import MinMaxScaler\n",
    "from sklearn.metrics import accuracy_score, confusion_matrix, ConfusionMatrixDisplay\n",
    "from sklearn.model_selection import cross_val_score, KFold\n",
    "\n",
    "import utils"
   ]
  },
  {
   "cell_type": "markdown",
   "metadata": {},
   "source": [
    "### Importación de los datos MNIST"
   ]
  },
  {
   "cell_type": "code",
   "execution_count": 3,
   "metadata": {},
   "outputs": [],
   "source": [
    "mnist = tf.keras.datasets.mnist"
   ]
  },
  {
   "cell_type": "markdown",
   "metadata": {},
   "source": [
    "### División de los datos de entrenamiento y prueba"
   ]
  },
  {
   "cell_type": "code",
   "execution_count": 4,
   "metadata": {},
   "outputs": [],
   "source": [
    "(X_train, y_train), (X_test, y_test) = mnist.load_data()"
   ]
  },
  {
   "cell_type": "markdown",
   "metadata": {},
   "source": [
    "Los datos del conjunto MNIST se dividen entre 255 porque los valores ed los píxeles en las imágenes de MNIST están en un rango de 0 a 255. Este rango representa la intensidad de cada píxel, donde 0 es completamente negro y 255 es completamente blanco. Al dividir los valores entre 255, se normalizan a un rango entre 0 y 1, lo cual es una práctica común en el preprocesamiento de datos para redes neuronales. Los valores más pequeños tienden a mejorar la eficiencia de los cálculos y evitan problemas con gradientes explosivos o desaparición de gradientes. "
   ]
  },
  {
   "cell_type": "code",
   "execution_count": 5,
   "metadata": {},
   "outputs": [],
   "source": [
    "X_train = X_train / 255.0\n",
    "X_test = X_test / 255.0"
   ]
  },
  {
   "cell_type": "markdown",
   "metadata": {},
   "source": [
    "Agregamos una dimensión extra para el canal de color porque las redes neuronales convolucionales (CNNs), que a menudo se usan con conjuntos de datos de imágenes, requieren que las imágenes tengan una estructura de tres dimensiones: alto, ancho y canales. MNIST solo tiene un canal que es en escala de grises (a diferencia de los colores RGB: rojo,verde y azul). Entonces se agrega una dimensión adicional de tamaño 1 para presentar el canal de color (grises en este caso), de modo que la imagen tenga el formato adecuado para el modelo"
   ]
  },
  {
   "cell_type": "code",
   "execution_count": 6,
   "metadata": {},
   "outputs": [],
   "source": [
    "# agregamos una dimensión\n",
    "X_train = X_train[..., tf.newaxis].astype(\"float32\")\n",
    "X_test = X_test[..., tf.newaxis].astype(\"float32\")"
   ]
  },
  {
   "cell_type": "code",
   "execution_count": 7,
   "metadata": {},
   "outputs": [
    {
     "data": {
      "text/plain": [
       "<matplotlib.image.AxesImage at 0x24d2ad4ecc0>"
      ]
     },
     "execution_count": 7,
     "metadata": {},
     "output_type": "execute_result"
    },
    {
     "data": {
      "image/png": "[encoded data removed]",
      "text/plain": [
       "<Figure size 640x480 with 1 Axes>"
      ]
     },
     "metadata": {},
     "output_type": "display_data"
    }
   ],
   "source": [
    "plt.imshow(X_train[0, :, :, 0])"
   ]
  },
  {
   "cell_type": "code",
   "execution_count": 8,
   "metadata": {},
   "outputs": [
    {
     "data": {
      "text/plain": [
       "(60000, 10000)"
      ]
     },
     "execution_count": 8,
     "metadata": {},
     "output_type": "execute_result"
    }
   ],
   "source": [
    "num_train = X_train.shape[0]\n",
    "num_test = X_test.shape[0]\n",
    "num_train, num_test"
   ]
  },
  {
   "cell_type": "code",
   "execution_count": 9,
   "metadata": {},
   "outputs": [],
   "source": [
    "tf.random.set_seed(0)"
   ]
  },
  {
   "cell_type": "markdown",
   "metadata": {},
   "source": [
    "### Modelo Maestro\n",
    "\n",
    "Entrene un modelo grande y de alto consumo de recursos que utilice Dropout y que generalice bien los datos de prueba.\n",
    "Aquí, por \"grande\" nos referimos a una red neuronal amplia con filtros de convolución y dos capas ocultas completamente conectadas."
   ]
  },
  {
   "cell_type": "code",
   "execution_count": 10,
   "metadata": {},
   "outputs": [],
   "source": [
    "class TeacherModel(Model):\n",
    "    def __init__(self, T: float):\n",
    "        super(TeacherModel, self).__init__()\n",
    "        \n",
    "        self.T = T\n",
    "        \n",
    "        self.conv1 = Conv2D(32, 3, activation=\"relu\")\n",
    "        self.flatten = Flatten()\n",
    "        \n",
    "        self.d1 = Dense(100, activation=\"relu\")\n",
    "        self.d2 = Dense(100, activation=\"relu\")\n",
    "        self.d3 = Dense(100, activation=\"relu\")\n",
    "        self.d4 = Dense(100, activation=\"relu\")\n",
    "        self.d5 = Dense(10)\n",
    "        \n",
    "        self.dropout_layer_hidden = tf.keras.layers.Dropout(rate=0.5)\n",
    "        \n",
    "        self.output_layer = tf.keras.layers.Softmax()\n",
    "\n",
    "    def call(self, x):\n",
    "        x = self.conv1(x)\n",
    "        x = self.flatten(x)\n",
    "        \n",
    "        x = self.d1(x)\n",
    "        x = self.dropout_layer_hidden(x)\n",
    "        \n",
    "        x = self.d2(x)\n",
    "        x = self.dropout_layer_hidden(x)\n",
    "\n",
    "        x = self.d3(x)\n",
    "        x = self.dropout_layer_hidden(x)\n",
    "\n",
    "        x = self.d4(x)\n",
    "        x = self.dropout_layer_hidden(x)\n",
    "        \n",
    "        x = self.d5(x)\n",
    "        x = self.output_layer(x / self.T)\n",
    "        return x"
   ]
  },
  {
   "cell_type": "markdown",
   "metadata": {},
   "source": [
    "El Softmax Temperature es una técnica que se utiliza para ajustar la \"suavidad\" o \"confianza\" de la distribución de probabilidad producida por la función softmax en modelos de machine learning, como redes neuronales.\n",
    "\n",
    "En la función softmax estándar, los valores de entrada (también llamados logits) se transforman en probabilidades que suman 1. Al aplicar una temperatura al softmax, se ajusta la distribución de esas probabilidades modificando la forma en que los logits afectan las salidas.\n",
    "\n",
    "Cómo afecta la temperatura:\n",
    "* Alta temperatura (T > 1): La salida del softmax será más \"suave\", lo que significa que las probabilidades estarán más distribuidas y serán más cercanas entre sí. Esto se traduce en menos confianza en las predicciones.\n",
    "* Baja temperatura (T < 1): La salida del softmax será más \"brusca\", lo que significa que una clase dominante tendrá una probabilidad mucho mayor y las demás mucho menores. Esto incrementa la confianza en las predicciones.\n",
    "* Temperatura T = 1: El softmax funciona de manera estándar, sin ningún ajuste adicional.\n",
    "\n",
    "Aplicaciones comunes:\n",
    "* Distillation de modelos: En el proceso de Knowledge Distillation, el modelo \"teacher\" utiliza una temperatura mayor para producir predicciones más suaves que el modelo \"student\" puede aprender mejor."
   ]
  },
  {
   "cell_type": "markdown",
   "metadata": {},
   "source": [
    "En nuestro caso, al entrenar un modelo alumno a partir de un modelo maestro, una temperatura alta suaviza las predicciones del maestro (no enfoncandose en las clases más probables, que podrían estár sobrevaloradas por el maestro), haciendo que el alumno aprenda mejor patrones generales en lugar de enfocarse únicamente en las clases más probables. Es decir, estamos priorizando una salida más balancead, donde las probabilidades de las clases no se concentrarán tanto en una sola opción, sino que estarán más repartidas. "
   ]
  },
  {
   "cell_type": "code",
   "execution_count": 11,
   "metadata": {},
   "outputs": [],
   "source": [
    "T = 3.5  # Softmax temperature\n",
    "teacher = TeacherModel(T=T)"
   ]
  },
  {
   "cell_type": "markdown",
   "metadata": {},
   "source": [
    "### Entrenamiento del modelo maestro"
   ]
  },
  {
   "cell_type": "code",
   "execution_count": 12,
   "metadata": {},
   "outputs": [],
   "source": [
    "optimizer = tf.keras.optimizers.Adam()\n",
    "loss = tf.keras.losses.SparseCategoricalCrossentropy(from_logits=False)\n",
    "\n",
    "teacher.compile(\n",
    "    loss=loss,\n",
    "    optimizer=optimizer,\n",
    "    metrics=[\"accuracy\"])"
   ]
  },
  {
   "cell_type": "code",
   "execution_count": 13,
   "metadata": {},
   "outputs": [
    {
     "name": "stdout",
     "output_type": "stream",
     "text": [
      "Epoch 1/3\n",
      "\u001b[1m1500/1500\u001b[0m \u001b[32m━━━━━━━━━━━━━━━━━━━━\u001b[0m\u001b[37m\u001b[0m \u001b[1m10s\u001b[0m 6ms/step - accuracy: 0.8550 - loss: 0.4556 - val_accuracy: 0.9657 - val_loss: 0.1128\n",
      "Epoch 2/3\n",
      "\u001b[1m1500/1500\u001b[0m \u001b[32m━━━━━━━━━━━━━━━━━━━━\u001b[0m\u001b[37m\u001b[0m \u001b[1m9s\u001b[0m 6ms/step - accuracy: 0.9754 - loss: 0.0794 - val_accuracy: 0.9672 - val_loss: 0.1058\n",
      "Epoch 3/3\n",
      "\u001b[1m1500/1500\u001b[0m \u001b[32m━━━━━━━━━━━━━━━━━━━━\u001b[0m\u001b[37m\u001b[0m \u001b[1m9s\u001b[0m 6ms/step - accuracy: 0.9865 - loss: 0.0453 - val_accuracy: 0.9769 - val_loss: 0.0814\n"
     ]
    },
    {
     "data": {
      "text/plain": [
       "<keras.src.callbacks.history.History at 0x24d2cca0a10>"
      ]
     },
     "execution_count": 13,
     "metadata": {},
     "output_type": "execute_result"
    }
   ],
   "source": [
    "num_epochs = 3\n",
    "batch_size = 32\n",
    "\n",
    "teacher.fit(X_train, y_train, batch_size=batch_size, epochs=num_epochs, verbose=1, validation_split=0.2)"
   ]
  },
  {
   "cell_type": "markdown",
   "metadata": {},
   "source": [
    "### Evaluación del modelo maestro"
   ]
  },
  {
   "cell_type": "code",
   "execution_count": 14,
   "metadata": {},
   "outputs": [],
   "source": [
    "y_pred_teacher = np.argmax(teacher(X_test), axis=1)"
   ]
  },
  {
   "cell_type": "code",
   "execution_count": 15,
   "metadata": {},
   "outputs": [
    {
     "data": {
      "text/plain": [
       "0.9779"
      ]
     },
     "execution_count": 15,
     "metadata": {},
     "output_type": "execute_result"
    }
   ],
   "source": [
    "acc = accuracy_score(y_test, y_pred_teacher)\n",
    "acc"
   ]
  },
  {
   "cell_type": "markdown",
   "metadata": {},
   "source": [
    "El modelo de profesor logró 263 errores de prueba."
   ]
  },
  {
   "cell_type": "code",
   "execution_count": 16,
   "metadata": {},
   "outputs": [
    {
     "data": {
      "text/plain": [
       "221"
      ]
     },
     "execution_count": 16,
     "metadata": {},
     "output_type": "execute_result"
    }
   ],
   "source": [
    "int((1 - acc) * num_test)"
   ]
  },
  {
   "cell_type": "code",
   "execution_count": 17,
   "metadata": {},
   "outputs": [
    {
     "data": {
      "text/plain": [
       "<sklearn.metrics._plot.confusion_matrix.ConfusionMatrixDisplay at 0x24d2a64fb00>"
      ]
     },
     "execution_count": 17,
     "metadata": {},
     "output_type": "execute_result"
    },
    {
     "data": {
      "image/png": "[encoded data removed]",
      "text/plain": [
       "<Figure size 640x480 with 2 Axes>"
      ]
     },
     "metadata": {},
     "output_type": "display_data"
    }
   ],
   "source": [
    "cm = confusion_matrix(y_test, y_pred_teacher)\n",
    "disp = ConfusionMatrixDisplay(confusion_matrix=cm)\n",
    "disp.plot()\n",
    "\n"
   ]
  },
  {
   "cell_type": "markdown",
   "metadata": {},
   "source": [
    "### Calcule también las predicciones del profesor sobre el conjunto de entrenamiento.\n",
    "Estas se utilizarán más adelante para entrenar el modelo del estudiante.\n"
   ]
  },
  {
   "cell_type": "code",
   "execution_count": 18,
   "metadata": {},
   "outputs": [],
   "source": [
    "y_train_pred_teacher = teacher(X_train)"
   ]
  },
  {
   "cell_type": "markdown",
   "metadata": {},
   "source": [
    "### Modelo de estudiante\n",
    "Se utiliza una red neuronal mucho más pequeña y superficial como modelo de estudiante."
   ]
  },
  {
   "cell_type": "code",
   "execution_count": 19,
   "metadata": {},
   "outputs": [],
   "source": [
    "class StudentModel(Model):\n",
    "    def __init__(self, T):\n",
    "        super(StudentModel, self).__init__()\n",
    "        \n",
    "        self.T = T\n",
    "        \n",
    "        self.input_layer = tf.keras.layers.Flatten(input_shape=(28, 28))\n",
    "        self.d1 = Dense(10, activation=\"relu\")\n",
    "        self.d2 = Dense(10)\n",
    "        self.output_layer = tf.keras.layers.Softmax()\n",
    "\n",
    "    def call(self, x):\n",
    "        x = self.input_layer(x)\n",
    "        x = self.d1(x)\n",
    "        x = self.d2(x)\n",
    "        x = self.output_layer(x / self.T)\n",
    "        return x"
   ]
  },
  {
   "cell_type": "markdown",
   "metadata": {},
   "source": [
    "### Entrenar el modelo pequeño con las etiquetas originales\n",
    "Primero entrenaremos el modelo pequeño con las etiquetas originales y evaluaremos su rendimiento al generalizarlo con datos de prueba.\n",
    "Esperamos que su rendimiento sea peor que el del modelo del profesor, ya que tiene muchos menos parámetros\n"
   ]
  },
  {
   "cell_type": "code",
   "execution_count": 34,
   "metadata": {},
   "outputs": [
    {
     "name": "stderr",
     "output_type": "stream",
     "text": [
      "c:\\Users\\SESA626862\\AppData\\Local\\Programs\\Python\\Python312\\Lib\\site-packages\\keras\\src\\layers\\reshaping\\flatten.py:37: UserWarning: Do not pass an `input_shape`/`input_dim` argument to a layer. When using Sequential models, prefer using an `Input(shape)` object as the first layer in the model instead.\n",
      "  super().__init__(**kwargs)\n"
     ]
    }
   ],
   "source": [
    "small_model = StudentModel(T=1.0)"
   ]
  },
  {
   "cell_type": "code",
   "execution_count": 35,
   "metadata": {},
   "outputs": [],
   "source": [
    "optimizer = tf.keras.optimizers.Adam()\n",
    "loss = tf.keras.losses.SparseCategoricalCrossentropy(from_logits=True)\n",
    "\n",
    "small_model.compile(\n",
    "    loss=loss,\n",
    "    optimizer=optimizer,\n",
    "    metrics=[\"accuracy\"])"
   ]
  },
  {
   "cell_type": "code",
   "execution_count": 36,
   "metadata": {},
   "outputs": [
    {
     "name": "stderr",
     "output_type": "stream",
     "text": [
      "c:\\Users\\SESA626862\\AppData\\Local\\Programs\\Python\\Python312\\Lib\\site-packages\\keras\\src\\backend\\tensorflow\\nn.py:602: UserWarning: \"`sparse_categorical_crossentropy` received `from_logits=True`, but the `output` argument was produced by a Softmax activation and thus does not represent logits. Was this intended?\n",
      "  output, from_logits = _get_logits(\n"
     ]
    },
    {
     "name": "stdout",
     "output_type": "stream",
     "text": [
      "\u001b[1m625/625\u001b[0m \u001b[32m━━━━━━━━━━━━━━━━━━━━\u001b[0m\u001b[37m\u001b[0m \u001b[1m0s\u001b[0m 497us/step\n",
      "Fold: 1, accuracy: 0.9173\n",
      "\u001b[1m625/625\u001b[0m \u001b[32m━━━━━━━━━━━━━━━━━━━━\u001b[0m\u001b[37m\u001b[0m \u001b[1m0s\u001b[0m 492us/step\n",
      "Fold: 2, accuracy: 0.9213\n",
      "\u001b[1m625/625\u001b[0m \u001b[32m━━━━━━━━━━━━━━━━━━━━\u001b[0m\u001b[37m\u001b[0m \u001b[1m1s\u001b[0m 766us/step\n",
      "Fold: 3, accuracy: 0.92955\n"
     ]
    }
   ],
   "source": [
    "num_epochs = 3\n",
    "batch_size = 32\n",
    "\n",
    "cv = 3\n",
    "scores = np.zeros(cv)\n",
    "kf = KFold(n_splits=cv)\n",
    "for i, (train_index, test_index) in enumerate(kf.split(X_train)):\n",
    "    X_train_kf, X_test_kf = X_train[train_index], X_train[test_index]\n",
    "    y_train_kf, y_test_kf = y_train[train_index], y_train[test_index]\n",
    "\n",
    "    small_model.fit(X_train_kf, y_train_kf, batch_size=batch_size, epochs=num_epochs, verbose=0)\n",
    "    y_pred = small_model.predict(X_test_kf)\n",
    "    y_pred = np.argmax(y_pred, axis=1)\n",
    "\n",
    "    score = accuracy_score(y_test_kf, y_pred)\n",
    "    scores[i] = score\n",
    "\n",
    "    print(f\"Fold: {i + 1}, accuracy: {score}\")"
   ]
  },
  {
   "cell_type": "code",
   "execution_count": 37,
   "metadata": {},
   "outputs": [
    {
     "data": {
      "text/plain": [
       "0.9227166666666666"
      ]
     },
     "execution_count": 37,
     "metadata": {},
     "output_type": "execute_result"
    }
   ],
   "source": [
    "scores.mean()"
   ]
  },
  {
   "cell_type": "code",
   "execution_count": 38,
   "metadata": {},
   "outputs": [
    {
     "name": "stdout",
     "output_type": "stream",
     "text": [
      "\u001b[1m313/313\u001b[0m \u001b[32m━━━━━━━━━━━━━━━━━━━━\u001b[0m\u001b[37m\u001b[0m \u001b[1m0s\u001b[0m 542us/step\n"
     ]
    }
   ],
   "source": [
    "small_model.fit(X_train, y_train, batch_size=batch_size, epochs=num_epochs, verbose=0)\n",
    "y_pred_small = np.argmax(small_model.predict(X_test), axis=1)"
   ]
  },
  {
   "cell_type": "code",
   "execution_count": 39,
   "metadata": {},
   "outputs": [
    {
     "data": {
      "text/plain": [
       "0.9307"
      ]
     },
     "execution_count": 39,
     "metadata": {},
     "output_type": "execute_result"
    }
   ],
   "source": [
    "acc = accuracy_score(y_test, y_pred_small)\n",
    "acc"
   ]
  },
  {
   "cell_type": "markdown",
   "metadata": {},
   "source": [
    "El modelo pequeño entrenado con etiquetas originales logró 693 errores de prueba"
   ]
  },
  {
   "cell_type": "code",
   "execution_count": 40,
   "metadata": {},
   "outputs": [
    {
     "data": {
      "text/plain": [
       "693"
      ]
     },
     "execution_count": 40,
     "metadata": {},
     "output_type": "execute_result"
    }
   ],
   "source": [
    "int((1 - acc)*num_test)"
   ]
  },
  {
   "cell_type": "markdown",
   "metadata": {},
   "source": [
    "### Transformar el conocimiento del modelo del gran profesor en el modelo del pequeño estudiante\n"
   ]
  },
  {
   "cell_type": "code",
   "execution_count": 27,
   "metadata": {},
   "outputs": [
    {
     "name": "stderr",
     "output_type": "stream",
     "text": [
      "c:\\Users\\SESA626862\\AppData\\Local\\Programs\\Python\\Python312\\Lib\\site-packages\\keras\\src\\layers\\reshaping\\flatten.py:37: UserWarning: Do not pass an `input_shape`/`input_dim` argument to a layer. When using Sequential models, prefer using an `Input(shape)` object as the first layer in the model instead.\n",
      "  super().__init__(**kwargs)\n"
     ]
    }
   ],
   "source": [
    "student_model = StudentModel(T=1.9)"
   ]
  },
  {
   "cell_type": "code",
   "execution_count": 28,
   "metadata": {},
   "outputs": [],
   "source": [
    "optimizer = tf.keras.optimizers.Adam()\n",
    "loss = tf.keras.losses.CategoricalCrossentropy()\n",
    "\n",
    "student_model.compile(\n",
    "    loss=loss,\n",
    "    optimizer=optimizer,\n",
    "    metrics=[\"accuracy\"])"
   ]
  },
  {
   "cell_type": "code",
   "execution_count": 29,
   "metadata": {},
   "outputs": [
    {
     "name": "stdout",
     "output_type": "stream",
     "text": [
      "\u001b[1m625/625\u001b[0m \u001b[32m━━━━━━━━━━━━━━━━━━━━\u001b[0m\u001b[37m\u001b[0m \u001b[1m0s\u001b[0m 479us/step\n",
      "Fold: 1, accuracy: 0.91985\n",
      "\u001b[1m625/625\u001b[0m \u001b[32m━━━━━━━━━━━━━━━━━━━━\u001b[0m\u001b[37m\u001b[0m \u001b[1m0s\u001b[0m 524us/step\n",
      "Fold: 2, accuracy: 0.92825\n",
      "\u001b[1m625/625\u001b[0m \u001b[32m━━━━━━━━━━━━━━━━━━━━\u001b[0m\u001b[37m\u001b[0m \u001b[1m0s\u001b[0m 483us/step\n",
      "Fold: 3, accuracy: 0.93265\n"
     ]
    }
   ],
   "source": [
    "num_epochs = 3\n",
    "batch_size = 32\n",
    "\n",
    "cv = 3\n",
    "scores = np.zeros(cv)\n",
    "kf = KFold(n_splits=cv)\n",
    "for i, (train_index, test_index) in enumerate(kf.split(X_train)):\n",
    "    X_train_kf, X_test_kf = X_train[train_index], X_train[test_index]\n",
    "    y_train_kf, y_test_kf = y_train_pred_teacher.numpy()[train_index], y_train_pred_teacher.numpy()[test_index]\n",
    "\n",
    "    student_model.fit(X_train_kf, y_train_kf, batch_size=batch_size, epochs=num_epochs, verbose=0)\n",
    "    y_pred = student_model.predict(X_test_kf)\n",
    "    y_pred = np.argmax(y_pred, axis=1)\n",
    "\n",
    "    score = accuracy_score(np.argmax(y_test_kf, axis=1), y_pred)\n",
    "    scores[i] = score\n",
    "\n",
    "    print(f\"Fold: {i + 1}, accuracy: {score}\")"
   ]
  },
  {
   "cell_type": "code",
   "execution_count": 30,
   "metadata": {},
   "outputs": [
    {
     "data": {
      "text/plain": [
       "0.9269166666666667"
      ]
     },
     "execution_count": 30,
     "metadata": {},
     "output_type": "execute_result"
    }
   ],
   "source": [
    "scores.mean()\n"
   ]
  },
  {
   "cell_type": "code",
   "execution_count": 31,
   "metadata": {},
   "outputs": [],
   "source": [
    "student_model.fit(X_train, y_train_pred_teacher, batch_size=batch_size, epochs=num_epochs, verbose=0)\n",
    "y_pred_student = np.argmax(student_model(X_test), axis=1)"
   ]
  },
  {
   "cell_type": "code",
   "execution_count": 32,
   "metadata": {},
   "outputs": [
    {
     "data": {
      "text/plain": [
       "0.9362"
      ]
     },
     "execution_count": 32,
     "metadata": {},
     "output_type": "execute_result"
    }
   ],
   "source": [
    "acc = accuracy_score(y_test, y_pred_student)\n",
    "acc"
   ]
  },
  {
   "cell_type": "code",
   "execution_count": 33,
   "metadata": {},
   "outputs": [
    {
     "data": {
      "text/plain": [
       "637"
      ]
     },
     "execution_count": 33,
     "metadata": {},
     "output_type": "execute_result"
    }
   ],
   "source": [
    "int((1 - acc)*num_test)"
   ]
  },
  {
   "cell_type": "code",
   "execution_count": null,
   "metadata": {},
   "outputs": [],
   "source": []
  }
 ],
 "metadata": {
  "kernelspec": {
   "display_name": "Python 3",
   "language": "python",
   "name": "python3"
  },
  "language_info": {
   "codemirror_mode": {
    "name": "ipython",
    "version": 3
   },
   "file_extension": ".py",
   "mimetype": "text/x-python",
   "name": "python",
   "nbconvert_exporter": "python",
   "pygments_lexer": "ipython3",
   "version": "3.12.3"
  }
 },
 "nbformat": 4,
 "nbformat_minor": 2
}
